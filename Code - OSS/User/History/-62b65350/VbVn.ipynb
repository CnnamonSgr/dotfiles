{
 "cells": [
  {
   "cell_type": "markdown",
   "metadata": {
    "id": "TVGPwuOuf_6Y"
   },
   "source": [
    "## Programowanie, Egzamin 2024-2025\n",
    "Ja  ------------------------------------------ oświadczam, że praca którą oddam będzie przygotowana samodzielnie oraz akceptuję poniżej napisane zasady.\n",
    "\n",
    "Możesz korzystać ze swoich własnych kodów, wykładu, ćwiczeń, książek, manuali i dokumentacji.\n",
    "\n",
    "**Nie wolno korzystać z cudzych kodów na zasadzie copy-paste oraz z pomocy AI.**\n",
    "\n",
    "**Prace zawierające kody różniące się tylko nazwami zmiennych będą ocenione na 0.**"
   ]
  },
  {
   "cell_type": "markdown",
   "metadata": {
    "id": "dOAYPMjXJsm6"
   },
   "source": [
    "### Zadanie LAMBDA [10]\n",
    "\n",
    "Napisz wyrażenie lambda, które dla słownika, *którego kluczami są liczby całkowite, a wartościami są listy, zawierające liczby rzeczywiste* sprawdzi czy wszystkie elementy na liście są większe lub równe od wartości klucza i mniejsze niż wartość klucza powiększona o 1. [8]\n",
    "\n",
    "Wykonaj test dla dla swoich dowolnych  danych [2].\n",
    "\n",
    "\n",
    "\n",
    "Przykład\n",
    "\n",
    "> Dla słownika  ` s = ({2: [2, 2.4, 2.9], 5: [5.4, 5, 6]})`\n",
    "\n",
    "> otrzymano  `[True, False]`"
   ]
  },
  {
   "cell_type": "code",
   "execution_count": null,
   "metadata": {
    "colab": {
     "base_uri": "https://localhost:8080/"
    },
    "executionInfo": {
     "elapsed": 14,
     "status": "ok",
     "timestamp": 1740639253109,
     "user": {
      "displayName": "Jolanta Sobera",
      "userId": "06194045690537930414"
     },
     "user_tz": -60
    },
    "id": "lIHLYB2NKqCz",
    "outputId": "7a83bbb2-8fd9-4d62-9c32-3e787c5a114f"
   },
   "outputs": [
    {
     "data": {
      "text/plain": [
       "[dict_items([(2, [2, 2.4, 2.9]), (5, [5.4, 5, 6]), (6, [6.7, 8])])]"
      ]
     },
     "execution_count": 33,
     "metadata": {},
     "output_type": "execute_result"
    }
   ],
   "source": [
    "s = ({2: [2, 2.4, 2.9], 5: [5.4, 5, 6], 6: [6.7, 8]})\n",
    "[s.items()]"
   ]
  },
  {
   "cell_type": "code",
   "execution_count": null,
   "metadata": {
    "colab": {
     "base_uri": "https://localhost:8080/"
    },
    "executionInfo": {
     "elapsed": 7,
     "status": "ok",
     "timestamp": 1740639529501,
     "user": {
      "displayName": "Jolanta Sobera",
      "userId": "06194045690537930414"
     },
     "user_tz": -60
    },
    "id": "03ARgyk8Lezo",
    "outputId": "250f575c-381b-405a-946c-402956f0bb73"
   },
   "outputs": [
    {
     "name": "stdout",
     "output_type": "stream",
     "text": [
      "[True, False, False]\n"
     ]
    }
   ],
   "source": [
    " #v -lista\n",
    "print([all([el >= k and el < k+1 for el in v]) for k, v in s.items()])\n"
   ]
  },
  {
   "cell_type": "code",
   "execution_count": null,
   "metadata": {
    "id": "gNV7bG6NNe8U"
   },
   "outputs": [],
   "source": []
  },
  {
   "cell_type": "code",
   "execution_count": null,
   "metadata": {
    "id": "btiq2Z53NQjW"
   },
   "outputs": [],
   "source": [
    "zad1 = lambda s: [all([el >= k and el < k+1 for el in v]) for k, v in s.items()]"
   ]
  },
  {
   "cell_type": "code",
   "execution_count": null,
   "metadata": {
    "colab": {
     "base_uri": "https://localhost:8080/"
    },
    "executionInfo": {
     "elapsed": 25,
     "status": "ok",
     "timestamp": 1740639772883,
     "user": {
      "displayName": "Jolanta Sobera",
      "userId": "06194045690537930414"
     },
     "user_tz": -60
    },
    "id": "HgeSjoUzNYf0",
    "outputId": "bdb5455e-b067-492a-ccd8-036c19e0ffd4"
   },
   "outputs": [
    {
     "data": {
      "text/plain": [
       "[True, False, False]"
      ]
     },
     "execution_count": 44,
     "metadata": {},
     "output_type": "execute_result"
    }
   ],
   "source": [
    "zad1(s)"
   ]
  },
  {
   "cell_type": "code",
   "execution_count": 66,
   "metadata": {
    "colab": {
     "base_uri": "https://localhost:8080/"
    },
    "executionInfo": {
     "elapsed": 13,
     "status": "ok",
     "timestamp": 1740650796035,
     "user": {
      "displayName": "Bartosz Wiecha",
      "userId": "12119207942671066798"
     },
     "user_tz": -60
    },
    "id": "xptSRN_w20aT",
    "outputId": "768d9a49-6f2a-4850-8f33-22c622ff4f59"
   },
   "outputs": [
    {
     "name": "stdout",
     "output_type": "stream",
     "text": [
      "2\n",
      "True\n",
      "2.4\n",
      "True\n",
      "2.9\n",
      "True\n",
      "5.4\n",
      "True\n",
      "5\n",
      "True\n",
      "6\n",
      "False\n",
      "2\n",
      "False\n",
      "1.4\n",
      "False\n",
      "5\n",
      "False\n"
     ]
    }
   ],
   "source": [
    "s = {2: [2, 2.4, 2.9], 5: [5.4, 5, 6], 7: [2, 1.4, 5]}\n",
    "\n",
    "for k, v in s.items():\n",
    "  for el in v: #poniewaz v jest listą\n",
    "    print(el)\n",
    "    if el>=k and el < k+1:\n",
    "      print(True)\n",
    "    else:\n",
    "      print(False)"
   ]
  },
  {
   "cell_type": "code",
   "execution_count": 69,
   "metadata": {
    "colab": {
     "base_uri": "https://localhost:8080/"
    },
    "executionInfo": {
     "elapsed": 20,
     "status": "ok",
     "timestamp": 1740651072805,
     "user": {
      "displayName": "Bartosz Wiecha",
      "userId": "12119207942671066798"
     },
     "user_tz": -60
    },
    "id": "kUfjXsw834CG",
    "outputId": "787e15ad-a0a2-4989-e912-c174449adab0"
   },
   "outputs": [
    {
     "data": {
      "text/plain": [
       "[True, False, False]"
      ]
     },
     "execution_count": 69,
     "metadata": {},
     "output_type": "execute_result"
    }
   ],
   "source": [
    "zad1 = lambda s: [all([el>=k and el<k+1 for el in v]) for k, v in s.items()]\n",
    "\n",
    "zad1(s)"
   ]
  },
  {
   "cell_type": "markdown",
   "metadata": {
    "id": "7UO3adWgIJBe"
   },
   "source": [
    "### Zadanie Moduł [5]\n",
    "\n",
    "Wybierz jedną z funkcji, którą napiszesz podczas tego egzaminu. Utwórz moduł. Zaimportuj tę funkcję pod inną nazwą i ją uruchom."
   ]
  },
  {
   "cell_type": "markdown",
   "metadata": {
    "id": "qy2WRdu_NLeR"
   },
   "source": []
  },
  {
   "cell_type": "code",
   "execution_count": null,
   "metadata": {
    "colab": {
     "base_uri": "https://localhost:8080/"
    },
    "executionInfo": {
     "elapsed": 8,
     "status": "ok",
     "timestamp": 1740640143119,
     "user": {
      "displayName": "Jolanta Sobera",
      "userId": "06194045690537930414"
     },
     "user_tz": -60
    },
    "id": "MfRiqeDmPHir",
    "outputId": "51228d01-0bd1-4112-cb72-1b10c76b9fd7"
   },
   "outputs": [
    {
     "data": {
      "text/plain": [
       "[(3, 3, 0), 21]"
      ]
     },
     "execution_count": 48,
     "metadata": {},
     "output_type": "execute_result"
    }
   ],
   "source": [
    "from modul import Eva2WaLLE as E2V\n",
    "E2V((2, 3, 2))"
   ]
  },
  {
   "cell_type": "markdown",
   "metadata": {
    "id": "qT_dJRnFNtlp"
   },
   "source": [
    "### Zadanie Data [40]\n",
    "\n",
    "Napsz program, który pobiera numer dnia w roku i generuje napis złożony z informacji\n",
    "* jaki to dzień tygodnia i który dzień miesiąca wraz z nazwą miesiąca\n",
    "* nazwy wydarzenia specjalnego jeśli takie jest skojarzone z tym dniem\n",
    "* ile dni pozostało do końca roku.\n",
    "\n",
    "Przykład:\n",
    "> Dane wejściowe:  41\n",
    "\n",
    "> Wynik\n",
    "\n",
    "    \"Dziś jest 41 dzień roku, poniedziałek, 10 luty, egzamin z programowania do końca roku pozostało 324 dni.\"\n",
    "\n",
    "\n",
    "Ocenie podlega\n",
    "\n",
    "> Przygotowanie funkcji obsługującej punkt 1 (15). Docstring krótki.\n",
    "\n",
    "> Przygotowanie słownika obsługującego punkt 2 (3) i funkcji obsługującej dodanie dowolnej ilości informacji  do słownika (12). Docstring krótki. Zadanie można podzielić na dwie funkcje (dodającą jedno wydarzenie i wywołującą ją funkcję pobierającą wydarzenia (*args)- realizacja wg uznania osoby piszącej). Dostring krótki w jednej z funkcji.\n",
    "\n",
    "> Złożenie całego programu (10) z funkcjonalnością menu:\n",
    "  * podaj numer dnia w roku\n",
    "  * n - wypisz dane dla kolejnego dnia\n",
    "  * p - wypisz dane dla poprzedniego dnia\n",
    "  * e - koniec\n"
   ]
  },
  {
   "cell_type": "code",
   "execution_count": null,
   "metadata": {
    "colab": {
     "base_uri": "https://localhost:8080/"
    },
    "executionInfo": {
     "elapsed": 13,
     "status": "ok",
     "timestamp": 1740650326187,
     "user": {
      "displayName": "Bartosz Wiecha",
      "userId": "12119207942671066798"
     },
     "user_tz": -60
    },
    "id": "xodQGBNsyF7w",
    "outputId": "72416e49-8d24-4323-c4ae-38c0020d1af5"
   },
   "outputs": [
    {
     "data": {
      "text/plain": [
       "(8, 'Styczeń', 'Środa')"
      ]
     },
     "execution_count": 62,
     "metadata": {},
     "output_type": "execute_result"
    }
   ],
   "source": [
    "mies = [\"Styczeń\", \"Luty\", \"Marzec\", \"Kwiecień\", \"Maj\", \"Czerwiec\", \"Lipiec\", \"Sierpień\", \"Wrzesień\", \"Październik\", \"Listopad\", \"Grudzień\"]\n",
    "dni_tyg = [\"Wtorek\", \"Środa\", \"Czwartek\", \"Piątek\", \"Sobota\", \"Niedziela\", \"Poniedziałek\"]\n",
    "dni = [31, 28, 31, 30, 31, 30, 31, 31, 30, 31, 30, 31]\n",
    "\n",
    "def data(nr):\n",
    "  dni_do_konca = sum(dni) - dni[ile]\n",
    "  dzien_tyg = dni_tyg[nr%7]\n",
    "  kopia_nr = nr\n",
    "  ile = 0\n",
    "  while kopia_nr > dni[ile]:\n",
    "    kopia_nr -= dni[ile]\n",
    "    ile += 1\n",
    "    print(kopia_nr, ile)\n",
    "  return(kopia_nr, mies[ile], dzien_tyg, dni_do_konca)\n",
    "\n",
    "data(8)\n",
    "\n"
   ]
  },
  {
   "cell_type": "code",
   "execution_count": null,
   "metadata": {
    "id": "LnEqWqQC1J3T"
   },
   "outputs": [],
   "source": []
  },
  {
   "cell_type": "markdown",
   "metadata": {
    "id": "RXvqOqsF8dBr"
   },
   "source": [
    "### Zadanie SZCZĘŚLIWA cyfra [30]\n",
    "\n",
    "Napisz funkcję *happy*, która wyznaczy szczęśliwą cyfę pewnego numeru.\n",
    "Tzn wyznaczy sumę cyfr numeru  i jeżeli jest to liczba, która ma więcej niż jedną cyfrę to ponownie wyznaczy sumę cyfr itd aż uzyska wynik jednocyfrowy. Uwaga używanie funkcji str, sum, join zabronione. Możesz używać tylko pętli i instrukcji warunkowych działań (+, -, *, /, //, %)\n",
    " oraz zmiennych do przechowywania wyników.(10)\n",
    "\n",
    "Funkcja pobiera jeden argument, który jest liczbą całkowitą domyślnie ustawiny na 0 (2). Wymagane jest sprawdzenie poprawności i zgłoszenie błędu (3) oraz napisanie pełnego docstringu zawierającego opis funkcji pobierane argumenty, wartości zwracane (3).\n",
    "\n",
    "Napisz funkcję test lub dopisz testy w docstringu w powyższej funkcji spełnające założenia testowania glass-box (9). Wywołaj funkcję test lub testy umieszczone w docstringu (1).\n",
    "\n",
    "SZCZĘŚLIWY INDEKS -> wywołaj fukncję *happy* z numerem swojego indeksu. (2)\n",
    "\n",
    ">> happy(2349) - > 2+3+4+9 -> 18 -> 9\n"
   ]
  },
  {
   "cell_type": "markdown",
   "metadata": {
    "id": "V7F2gcX1LDwV"
   },
   "source": [
    "### Zadanie WALL-E [15]\n",
    "\n",
    "WALL-e i Eva lądują na ziemi w Maroku idą na suk (duży targ). Chcą kupić malutkie ciasteczka  lub owoce na sztuki -  aby pokazać ile sztuk chcą zakupić wykorzystują dłonie.\n",
    "\n",
    "> WALL-E ma dwie dłonie - 3 palce (chwytaki) każda dłoń\n",
    "\n",
    "> Eva ma dwie dłonie - 4 palce każda dłoń.\n",
    "\n",
    "> sprzedający ma 5 palcy i dwie dłonie.\n",
    "\n",
    "Napisz program, który umożliwi im porozumiewanie się.\n",
    "\n",
    "Dane wejściowe:\n",
    "\n",
    "Krotka złożona z trzech elementów. Pierwszy element, to ile razy pokazano całe dłonie, drugi element to ilość palcy w lewej ręce, a trzeci to ilosć palcy w prawej ręce. Zawsze najpierw wykorzystujemy rękę lewą, a następnie gdy mamy za mało palców wówczas prawą.\n",
    "\n",
    "Przykład z punktu widzenia WALL-E:\n",
    "\n",
    "(2, 3, 2) -> 2 razy całe dłonie tj. 2x6 palcy = 12 i 3 palce lewej dłoni i 2 palce prawej dłoni -> razem 17.\n",
    "\n",
    "(0, 3, 1) -> trzy palce lewej dłoni i jeden palec prawej dłoni -> razem 4.\n",
    "\n",
    "Eava pokazałaby (2, 1, 0) i (0, 4, 0) odpowiednio.\n",
    "\n",
    "Sprzedawca pokazałby (1, 5, 2) i (0, 4, 0) odpowiednio.\n",
    "\n",
    "Napisz konverer w zależności od szczęśliwego numeru Twojego indeksu.\n",
    "\n",
    "* Eva -> WALL-E gdy numer  szczęśliwy indeks to 1 lub 2\n",
    "\n",
    "* WALL-E -> Eva gdy numer szczęśliwy indeks to 3 lub 4\n",
    "\n",
    "* Eva -> Sprzedawca gdy numer szczęśliwy indeks to 5\n",
    "\n",
    "* Sprzedawca -> Eva gdy numer  szczęśliwy indeks to 6\n",
    "\n",
    "* WALL-E  -> Sprzedawca gdy numer  szczęśliwy indeks to 7 lub 8\n",
    "\n",
    "* Sprzedawca -> WALL-E gdy numer  szczęśliwy indeks to 9 i osoby, które nie zrobiły zadania  szczęśliwa liczba\n",
    "\n",
    "\n",
    "> Wynikiem powinna być lista złożona z krotki, która zawiera co pokazuje odbiorca oraz wartość, którą pokazują osoba lub boty.\n",
    "\n",
    "**Ocenie podlega treść funkcji (8), docstring (1), sprawdzenie poprawności napływających danych zgłoszenie błędu (krotka, i jej zawartość 4). Przeprowadzenie testu i obsługa sytuacji wyjatkowych. (2)**\n",
    "\n"
   ]
  },
  {
   "cell_type": "markdown",
   "metadata": {
    "id": "diPB0BugFzRT"
   },
   "source": [
    "WALL-E ma dwie dłonie - 3 palce (chwytaki) każda dłoń\n",
    "\n",
    "Eva ma dwie dłonie - 4 palce każda dłoń.\n",
    "\n",
    "sprzedający ma 5 palcy i dwie dłonie."
   ]
  },
  {
   "cell_type": "code",
   "execution_count": null,
   "metadata": {
    "id": "9V9RnKXqHZSZ"
   },
   "outputs": [],
   "source": [
    "L = [2, 3, -4]\n",
    "for el in L:\n",
    "  if not isinstance(el, int):\n",
    "    raise Exception(\"Podaj int\")"
   ]
  },
  {
   "cell_type": "code",
   "execution_count": null,
   "metadata": {
    "colab": {
     "base_uri": "https://localhost:8080/"
    },
    "executionInfo": {
     "elapsed": 11,
     "status": "ok",
     "timestamp": 1740638678753,
     "user": {
      "displayName": "Jolanta Sobera",
      "userId": "06194045690537930414"
     },
     "user_tz": -60
    },
    "id": "5nqC9D2uH18G",
    "outputId": "8e91eac5-885a-413a-9d11-4cc46fe42e8b"
   },
   "outputs": [
    {
     "data": {
      "text/plain": [
       "False"
      ]
     },
     "execution_count": 25,
     "metadata": {},
     "output_type": "execute_result"
    }
   ],
   "source": [
    "all([isinstance(el, int) and el>0  for el in L])"
   ]
  },
  {
   "cell_type": "code",
   "execution_count": null,
   "metadata": {
    "colab": {
     "base_uri": "https://localhost:8080/"
    },
    "executionInfo": {
     "elapsed": 8,
     "status": "ok",
     "timestamp": 1740640013348,
     "user": {
      "displayName": "Jolanta Sobera",
      "userId": "06194045690537930414"
     },
     "user_tz": -60
    },
    "id": "7s9xKkGnPYIg",
    "outputId": "7d24c61f-7075-4495-f872-e920f70d3fa1"
   },
   "outputs": [
    {
     "name": "stdout",
     "output_type": "stream",
     "text": [
      "Writing modul2.py\n"
     ]
    }
   ],
   "source": [
    "%%writefile modul2.py\n",
    "def Eva2WaLLE(L):\n",
    "  \"\"\"Funkcja do komunikacji Eva WaLLE.\n",
    "\n",
    "  Args:\n",
    "    (krotka zawierająca ilość całych dłoni, ilości palcy lewej dłoni i palcy prawej dłoni.\n",
    "  Return:\n",
    "    lista zawierajca krotkę wynik WAllE i sumę.\"\"\"\n",
    "  if not isinstance(L, tuple):\n",
    "    raise Exception(\"Oczekuje krotki\")\n",
    "  if not all([isinstance(el, int) and el>=0 for el in L]):\n",
    "    raise Exception(\"Podaj int\")\n",
    "  if not(L[1]<4 and L[2]<4):\n",
    "    raise Exception(\"Popraw dane\")\n",
    "\n",
    "  suma = L[0] * 8 + L[1] + L[2]\n",
    "  caledlonie = suma // 6\n",
    "  pozostale = suma % 6\n",
    "  if pozostale >= 3:\n",
    "    lewa = 3\n",
    "    prawa = pozostale - lewa\n",
    "  else:\n",
    "    lewa = pozostale\n",
    "    prawa = 0\n",
    "  res = (caledlonie, lewa, prawa)\n",
    "  return [res, suma]\n",
    "\n"
   ]
  },
  {
   "cell_type": "code",
   "execution_count": 34,
   "metadata": {
    "executionInfo": {
     "elapsed": 4,
     "status": "ok",
     "timestamp": 1740648810380,
     "user": {
      "displayName": "Bartosz Wiecha",
      "userId": "12119207942671066798"
     },
     "user_tz": -60
    },
    "id": "p1ZKMOD4t1Up"
   },
   "outputs": [],
   "source": [
    "k = (1, 2, 3)\n",
    "for el in k:\n",
    "  if not isinstance(el, int) or el<0:\n",
    "    raise Exception(\"Oczekuje int dodatniego\")\n"
   ]
  },
  {
   "cell_type": "code",
   "execution_count": 35,
   "metadata": {
    "colab": {
     "base_uri": "https://localhost:8080/"
    },
    "executionInfo": {
     "elapsed": 14,
     "status": "ok",
     "timestamp": 1740648812864,
     "user": {
      "displayName": "Bartosz Wiecha",
      "userId": "12119207942671066798"
     },
     "user_tz": -60
    },
    "id": "upNP2gjsvQkn",
    "outputId": "4f63da21-53da-4927-9186-25015f8f5ab0"
   },
   "outputs": [
    {
     "data": {
      "text/plain": [
       "[True, True, True]"
      ]
     },
     "execution_count": 35,
     "metadata": {},
     "output_type": "execute_result"
    }
   ],
   "source": [
    "[(isinstance(el, int)) and el>0 for el in k]"
   ]
  },
  {
   "cell_type": "code",
   "execution_count": 36,
   "metadata": {
    "colab": {
     "base_uri": "https://localhost:8080/"
    },
    "executionInfo": {
     "elapsed": 7,
     "status": "ok",
     "timestamp": 1740648814325,
     "user": {
      "displayName": "Bartosz Wiecha",
      "userId": "12119207942671066798"
     },
     "user_tz": -60
    },
    "id": "_TubcT3nwLA2",
    "outputId": "74ded88f-3c41-4f60-9a90-93be722f2f41"
   },
   "outputs": [
    {
     "data": {
      "text/plain": [
       "True"
      ]
     },
     "execution_count": 36,
     "metadata": {},
     "output_type": "execute_result"
    }
   ],
   "source": [
    "all([(isinstance(el, int)) and el>0 for el in k])"
   ]
  },
  {
   "cell_type": "code",
   "execution_count": 51,
   "metadata": {
    "colab": {
     "base_uri": "https://localhost:8080/"
    },
    "executionInfo": {
     "elapsed": 15,
     "status": "ok",
     "timestamp": 1740649110551,
     "user": {
      "displayName": "Bartosz Wiecha",
      "userId": "12119207942671066798"
     },
     "user_tz": -60
    },
    "id": "kX9CY8PfrrJV",
    "outputId": "c454acb4-6844-4e0e-ea20-9007d37295bc"
   },
   "outputs": [
    {
     "name": "stdout",
     "output_type": "stream",
     "text": [
      "[(2, 2, 0), 18]\n"
     ]
    }
   ],
   "source": [
    "def WaLLE2Eva(L):\n",
    "  \"\"\"Konwenter Walle to Eva\"\"\"\n",
    "  if not isinstance(L, tuple):\n",
    "    raise Exception(\"Podaj krotkę\")\n",
    "  if not all([(isinstance(el, int)) and el>0 for el in L]):\n",
    "    raise Exception(\"Oczekuje int dodatniego\")\n",
    "  if L[1] > 3  or L[2] > 3:\n",
    "    raise Exception(\"Błędne dane\")\n",
    "  suma = L[0] * 6 + L[1] + L[2]\n",
    "  ile_razy_dlonie = suma // 8 # bo Eva ma po 4 palce, wiec 4 palcow lacznie\n",
    "  palce = suma % 8\n",
    "  if palce>=4:\n",
    "    lewa = 4\n",
    "    prawa = palce - lewa\n",
    "  else:\n",
    "    lewa = palce\n",
    "    prawa = 0\n",
    "  ret = (ile_razy_dlonie, lewa, prawa)\n",
    "  return [ret, suma]\n",
    "\n",
    "try:\n",
    "  print(WaLLE2Eva((2,3,3)))\n",
    "except Exception as e:\n",
    "  print(e)\n",
    "\n",
    "# Rozszerzyć to zadanie, kto do kogo konwertuje, ale tak żeby cały kod nie był w \"if\""
   ]
  },
  {
   "cell_type": "code",
   "execution_count": 2,
   "metadata": {
    "colab": {
     "base_uri": "https://localhost:8080/"
    },
    "executionInfo": {
     "elapsed": 17,
     "status": "ok",
     "timestamp": 1740647754455,
     "user": {
      "displayName": "Bartosz Wiecha",
      "userId": "12119207942671066798"
     },
     "user_tz": -60
    },
    "id": "zb-DwNdFFW3d",
    "outputId": "5dc16f2a-1a28-4c50-d31b-ccb5c68545c1"
   },
   "outputs": [
    {
     "name": "stdout",
     "output_type": "stream",
     "text": [
      "Błąd danych  name 'Eva2WaLLE' is not defined\n"
     ]
    }
   ],
   "source": [
    "try:\n",
    "  Eva2WaLLE((3, 2, 3))\n",
    "except Exception as e:\n",
    "  print(\"Błąd danych \", e)\n"
   ]
  },
  {
   "cell_type": "code",
   "execution_count": null,
   "metadata": {
    "id": "bNPZLsCaFmFT"
   },
   "outputs": [],
   "source": []
  }
 ],
 "metadata": {
  "colab": {
   "provenance": [
    {
     "file_id": "1JUehZaIFiHLHzSXMi2WnDlLAus19f_Xu",
     "timestamp": 1740646657792
    }
   ]
  },
  "kernelspec": {
   "display_name": "Python 3",
   "name": "python3"
  },
  "language_info": {
   "name": "python"
  }
 },
 "nbformat": 4,
 "nbformat_minor": 0
}
